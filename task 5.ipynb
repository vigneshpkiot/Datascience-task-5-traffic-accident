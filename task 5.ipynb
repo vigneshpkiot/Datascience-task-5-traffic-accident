{
 "cells": [
  {
   "cell_type": "code",
   "execution_count": null,
   "id": "529ddc9e",
   "metadata": {},
   "outputs": [],
   "source": [
    "import pandas as pd\n",
    "import matplotlib.pyplot as plt\n",
    "import seaborn as sns\n",
    "import folium\n",
    "from folium.plugins import HeatMap\n",
    "\n",
    "# Load the traffic accident dataset (replace 'accidents.csv' with your dataset)\n",
    "df = pd.read_csv('train.csv')\n",
    "\n",
    "# Display the first few rows of the dataset\n",
    "print(\"First few rows of the dataset:\")\n",
    "print(df.head())\n",
    "\n",
    "# Data preprocessing\n",
    "# Convert the timestamp to a datetime object\n",
    "df['timestamp'] = pd.to_datetime(df['timestamp'])\n",
    "\n",
    "# Extract features related to road conditions, weather, and time of day\n",
    "selected_columns = ['road_conditions', 'weather', 'timestamp']\n",
    "df_selected = df[selected_columns]\n",
    "\n",
    "# Visualize road conditions and weather using count plots\n",
    "plt.figure(figsize=(12, 8))\n",
    "sns.countplot(x='road_conditions', data=df_selected, hue='weather')\n",
    "plt.title('Road Conditions and Weather Distribution')\n",
    "plt.xlabel('Road Conditions')\n",
    "plt.ylabel('Count')\n",
    "plt.show()\n",
    "\n",
    "# Visualize accidents over time\n",
    "df_selected.set_index('timestamp', inplace=True)\n",
    "df_selected['hour'] = df_selected.index.hour\n",
    "\n",
    "plt.figure(figsize=(14, 8))\n",
    "sns.countplot(x='hour', data=df_selected, color='blue')\n",
    "plt.title('Accidents by Hour of the Day')\n",
    "plt.xlabel('Hour of the Day')\n",
    "plt.ylabel('Count')\n",
    "plt.show()\n",
    "\n",
    "# Visualize accident hotspots using folium HeatMap\n",
    "accident_map = folium.Map(location=[df['latitude'].mean(), df['longitude'].mean()], zoom_start=10)\n",
    "\n",
    "heat_data = [[row['latitude'], row['longitude']] for index, row in df.iterrows()]\n",
    "HeatMap(heat_data).add_to(accident_map)\n",
    "\n",
    "accident_map.save('accident_hotspots.html')\n",
    "\n",
    "print(\"Accident hotspots map saved as 'accident_hotspots.html'. Open it in your web browser.\")\n"
   ]
  }
 ],
 "metadata": {
  "kernelspec": {
   "display_name": "Python 3 (ipykernel)",
   "language": "python",
   "name": "python3"
  },
  "language_info": {
   "codemirror_mode": {
    "name": "ipython",
    "version": 3
   },
   "file_extension": ".py",
   "mimetype": "text/x-python",
   "name": "python",
   "nbconvert_exporter": "python",
   "pygments_lexer": "ipython3",
   "version": "3.10.9"
  }
 },
 "nbformat": 4,
 "nbformat_minor": 5
}
